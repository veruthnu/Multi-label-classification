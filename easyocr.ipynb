{
 "cells": [
  {
   "cell_type": "code",
   "execution_count": 1,
   "metadata": {},
   "outputs": [],
   "source": [
    "import easyocr"
   ]
  },
  {
   "cell_type": "code",
   "execution_count": 6,
   "metadata": {},
   "outputs": [
    {
     "name": "stderr",
     "output_type": "stream",
     "text": [
      "CUDA not available - defaulting to CPU. Note: This module is much faster with a GPU.\n"
     ]
    },
    {
     "data": {
      "text/plain": [
       "[([[513, 29], [757, 29], [757, 91], [513, 91]],\n",
       "  '준비 되섞습니다',\n",
       "  0.3653102362870832),\n",
       " ([[856, 30], [934, 30], [934, 84], [856, 84]], '주비', 0.7443683736670809),\n",
       " ([[218, 104], [495, 104], [495, 178], [218, 178]],\n",
       "  '끝나멋 눈데요 .',\n",
       "  0.27470390443487747),\n",
       " ([[601, 105], [835, 105], [835, 171], [601, 171]],\n",
       "  '끝4 눈데요 .',\n",
       "  0.2087125751224844),\n",
       " ([[40, 120], [80, 120], [80, 275], [40, 275]], '\"', 0.0485871783441818),\n",
       " ([[259, 189], [439, 189], [439, 251], [259, 251]],\n",
       "  '열려지지',\n",
       "  0.9863457679748535),\n",
       " ([[480, 196], [576, 196], [576, 250], [480, 250]], 'I', 0.3701007926479747),\n",
       " ([[606, 178], [767, 178], [767, 258], [606, 258]], '열리지', 0.9951788183677078),\n",
       " ([[51, 287], [67, 287], [67, 321], [51, 321]], '1', 0.9997310819244376),\n",
       " ([[44, 334], [76, 334], [76, 382], [44, 382]], '번', 0.9997034292794069),\n",
       " ([[932.9286568319889, 22.072060556717414],\n",
       "   [1103.7719028881345, 44.10328560468149],\n",
       "   [1091.0713431680113, 111.92793944328258],\n",
       "   [920.2280971118656, 88.89671439531851]],\n",
       "  '멋습니다',\n",
       "  0.4640517234802246)]"
      ]
     },
     "execution_count": 6,
     "metadata": {},
     "output_type": "execute_result"
    }
   ],
   "source": [
    "reader = easyocr.Reader(['ko','en'])\n",
    "reader.readtext('a.png')\n",
    "text = reader.readtext('a.png')\n",
    "text"
   ]
  },
  {
   "cell_type": "code",
   "execution_count": null,
   "metadata": {},
   "outputs": [],
   "source": []
  }
 ],
 "metadata": {
  "kernelspec": {
   "display_name": "Python 3",
   "language": "python",
   "name": "python3"
  },
  "language_info": {
   "codemirror_mode": {
    "name": "ipython",
    "version": 3
   },
   "file_extension": ".py",
   "mimetype": "text/x-python",
   "name": "python",
   "nbconvert_exporter": "python",
   "pygments_lexer": "ipython3",
   "version": "3.8.5"
  }
 },
 "nbformat": 4,
 "nbformat_minor": 4
}
